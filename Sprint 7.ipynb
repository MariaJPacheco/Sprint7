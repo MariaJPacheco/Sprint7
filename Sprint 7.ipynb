{
 "cells": [
  {
   "cell_type": "markdown",
   "metadata": {},
   "source": [
    "Nivel 1\n",
    "\n",
    "- Ejercicio 1:\n",
    "\n",
    "Calculadora del índice de masa corporal\n",
    "Escribe una función que calcule el IMC ingresado por el usuario/a, es decir, quien lo ejecute deberá ingresar estos datos. Puedes obtener más información de su cálculo en:\n",
    "La función debe clasificar el resultado en sus respectivas categorías."
   ]
  },
  {
   "cell_type": "code",
   "execution_count": null,
   "metadata": {},
   "outputs": [
    {
     "name": "stdout",
     "output_type": "stream",
     "text": [
      "Tu IMC es 23.44. Estás en la franja de 'peso normal'.\n"
     ]
    }
   ],
   "source": [
    "def calcular_IMC():\n",
    "    peso = float(input(\"Introduce tu peso en kg: (indica los decimales con un punto) \"))\n",
    "    altura = float(input(\"Introduce tu altura en metros: (indica los decimales con un punto)\"))\n",
    "\n",
    "    IMC = round(peso / (altura ** 2),2)\n",
    "\n",
    "    if IMC < 18.5:\n",
    "        categoria = \"bajo peso\"\n",
    "    elif 18.5 <= IMC <= 24.9:\n",
    "        categoria = \"peso normal\"\n",
    "    elif 25 <= IMC <= 29.9:\n",
    "        categoria = \"sobrepeso\"\n",
    "    else:\n",
    "        categoria = \"obesidad\"    \n",
    "    print(f\"Tu IMC es {IMC}. Estás en la franja de '{categoria}'.\")\n",
    "\n",
    "calcular_IMC()"
   ]
  },
  {
   "cell_type": "markdown",
   "metadata": {},
   "source": [
    "- Ejercicio 2:\n",
    "\n",
    "Conversor de temperaturas.\n",
    "Existen diversas unidades de temperatura utilizadas en distintos contextos y regiones. Las más comunes son Celsius (°C), Fahrenheit (°F) y Kelvin (K). También existen otras unidades como Rankine (°Ra) y Réaumur (°Re). Selecciona al menos 2 conversores, de modo que al introducir una temperatura devuelva, como mínimo, dos conversiones.\n"
   ]
  },
  {
   "cell_type": "code",
   "execution_count": 12,
   "metadata": {},
   "outputs": [
    {
     "name": "stdout",
     "output_type": "stream",
     "text": [
      "Ls temperatura en Celsius es: 42.5ºC, convertidos a Fahrenheit son: 108.5ºF, y en Kelvin son: 315.65ºK\n"
     ]
    }
   ],
   "source": [
    "def conversor_grados():\n",
    "    Celsius = float(input(\"Introduce la temperatura en ºC (indica los decimales con un punto)\"))\n",
    "    Fahrenheit = float(Celsius * 9 / 5 + 32)\n",
    "    Kelvin =  float(Celsius + 273.15)\n",
    "    print(\"Ls temperatura en Celsius es: \" + str(Celsius) + \"ºC, convertidos a Fahrenheit son: \" + str(Fahrenheit) + \"ºF, y en Kelvin son: \" + str(Kelvin) + \"ºK\")\n",
    "\n",
    "conversor_grados()"
   ]
  },
  {
   "cell_type": "markdown",
   "metadata": {},
   "source": [
    "- Ejercicio 3:\n",
    "\n",
    "Contador de palabras de un texto.\n",
    "Escribe una función que, dado un texto, muestre las veces que aparece cada palabra."
   ]
  },
  {
   "cell_type": "code",
   "execution_count": 14,
   "metadata": {},
   "outputs": [
    {
     "name": "stdout",
     "output_type": "stream",
     "text": [
      "'EJERCICIO': 1.\n",
      "'3': 1.\n",
      "'CONTADOR': 1.\n",
      "'DE': 2.\n",
      "'PALABRAS': 1.\n",
      "'UN': 2.\n",
      "'TEXTO': 2.\n",
      "'ESCRIBE': 1.\n",
      "'UNA': 1.\n",
      "'FUNCIÓN': 1.\n",
      "'QUE': 2.\n",
      "'DADO': 1.\n",
      "'MUESTRE': 1.\n",
      "'LAS': 1.\n",
      "'VECES': 1.\n",
      "'APARECE': 1.\n",
      "'CADA': 1.\n",
      "'PALABRA': 1.\n"
     ]
    }
   ],
   "source": [
    "def contador_palabras():\n",
    "    frase = input(\"Ingrese la frase: \").upper()\n",
    "    simbolos = ['¿', '?', '.', ',', ';', ':', '¡', '!', '(', ')', '-']\n",
    "   \n",
    "    for simbolo in simbolos:\n",
    "        frase = frase.replace(simbolo, '')\n",
    "    \n",
    "    palabras = frase.split()\n",
    "   \n",
    "    contador = {}\n",
    "    \n",
    "    for palabra in palabras:\n",
    "        if palabra in contador:\n",
    "            contador[palabra] += 1\n",
    "        else:\n",
    "            contador[palabra] = 1\n",
    "    \n",
    "    for palabra, cantidad in contador.items():\n",
    "        print(f\"'{palabra}': {cantidad}.\")\n",
    "\n",
    "contador_palabras()"
   ]
  },
  {
   "cell_type": "markdown",
   "metadata": {},
   "source": [
    "- Ejercicio 4: Diccionario inverso.\n",
    "Resulta que el cliente tiene una encuesta muy antigua que se almacena en un diccionario y los resultados los necesita a la inversa, es decir, intercambiados las claves y valores. Los valores y claves en el diccionario original son únicos; si éste no es el caso, la función debería imprimir un mensaje de advertencia.\n",
    "\n",
    "con repetidos: {'a': 1, 'b': 2, 'c': 3, 'd': 4, 'e': 1, 'f': 5, 'g': 6, 'h': 2, 'i': 7, 'j': 8, 'k': 9, 'l': 1, 'm': 10}\n",
    "sin repetidos: {'a': 1, 'b': 2, 'c': 3, 'd': 4, 'e': 11, 'f': 5, 'g': 6, 'h': 22, 'i': 7, 'j': 8, 'k': 9, 'l': 15, 'm': 10}"
   ]
  },
  {
   "cell_type": "code",
   "execution_count": 37,
   "metadata": {},
   "outputs": [
    {
     "name": "stdout",
     "output_type": "stream",
     "text": [
      "intercambio de claves y valores exitoso: {1: 'a', 2: 'b', 3: 'c', 4: 'd', 11: 'e', 5: 'f', 6: 'g', 22: 'h', 7: 'i', 8: 'j', 9: 'k', 15: 'l', 10: 'm'}\n"
     ]
    }
   ],
   "source": [
    "def invertir_diccionario():\n",
    "    diccionario = eval(input(\"Introduce el diccionario: \"))\n",
    "    valores_unicos = list()\n",
    "\n",
    "    for clave, valor in diccionario.items():\n",
    "        if valor in valores_unicos:\n",
    "            print(\"¡Error! Se encontraron valores duplicados. No se realizará el intercambio de claves y valores.\")\n",
    "            break\n",
    "        else: \n",
    "            valores_unicos.append(valor)\n",
    "    else:\n",
    "        diccionario_invertido = {valor: clave for clave, valor in diccionario.items()}\n",
    "        print(f\"intercambio de claves y valores exitoso: {diccionario_invertido}\")\n",
    "\n",
    "invertir_diccionario()"
   ]
  }
 ],
 "metadata": {
  "kernelspec": {
   "display_name": "Python 3",
   "language": "python",
   "name": "python3"
  },
  "language_info": {
   "codemirror_mode": {
    "name": "ipython",
    "version": 3
   },
   "file_extension": ".py",
   "mimetype": "text/x-python",
   "name": "python",
   "nbconvert_exporter": "python",
   "pygments_lexer": "ipython3",
   "version": "3.12.5"
  }
 },
 "nbformat": 4,
 "nbformat_minor": 2
}
